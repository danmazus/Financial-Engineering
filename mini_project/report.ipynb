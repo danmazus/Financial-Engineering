{
 "cells": [
  {
   "metadata": {},
   "cell_type": "markdown",
   "source": "### REPORT ###",
   "id": "b38dcd78a01f201f"
  },
  {
   "metadata": {},
   "cell_type": "markdown",
   "source": "We are going to create a portfolio of 9 stocks that include: AAPL, MSFT, AMZN, NVDA, GOOGL, TSLA, META, BRK.B, and UNH. This portfolio should minimize the variance of the entire portfolio, i.e. it will have the lower variance for the given stocks, and will have a holdings vector that will tell how much wealth should be distributed across each stock. Before anything we must first import and clean the stocks as a table with the Date, ranging from March 31, 2023 to September 22, 2023 totalling 26 weeks. We first make an import of all packages we will make use of.",
   "id": "70138295ff92456f"
  },
  {
   "metadata": {
    "ExecuteTime": {
     "end_time": "2025-02-11T20:17:22.193347Z",
     "start_time": "2025-02-11T20:17:18.487517Z"
    }
   },
   "cell_type": "code",
   "source": [
    "import numpy as np\n",
    "import pandas as pd"
   ],
   "id": "f998f778e5aae925",
   "outputs": [],
   "execution_count": 2
  },
  {
   "metadata": {},
   "cell_type": "markdown",
   "source": "Now that we have the packages imported, we can go ahead and import the .csv file that holds our stock information needed to start calculations.",
   "id": "e5d6972ed41fb009"
  },
  {
   "cell_type": "code",
   "id": "initial_id",
   "metadata": {
    "collapsed": true,
    "ExecuteTime": {
     "end_time": "2025-02-11T20:22:08.702120Z",
     "start_time": "2025-02-11T20:22:08.681378Z"
    }
   },
   "source": [
    "stocks = pd.read_csv('/Users/dannymazus/Documents/GitHub/Financial-Engineering/mini_project/stock_prices.csv')\n",
    "stocks = stocks.T\n",
    "tickers = [heading.split()[0] for heading in stocks.index[1:]]\n",
    "print(stocks.head())\n",
    "\n",
    "# Transform into a matrix for computation purposes\n",
    "price_matrix = stocks.to_numpy()\n",
    "price_matrix = np.delete(price_matrix, 0, 0).astype(float)"
   ],
   "outputs": [
    {
     "name": "stdout",
     "output_type": "stream",
     "text": [
      "                       0       1        2        3        4       5        6   \\\n",
      "Date              3/31/23  4/6/23  4/14/23  4/21/23  4/28/23  5/5/23  5/12/23   \n",
      "AAPL Close Price    164.9  164.66   165.21   165.02   169.68  173.57   172.57   \n",
      "MSFT Close Price    288.3   291.6   286.14   285.76   307.26  310.65   308.97   \n",
      "AMZN Close Price   103.29  102.06   102.51   106.96   105.45  105.66   110.26   \n",
      "NVDA Close Price    27.78   27.04    26.76    27.12    27.75   28.68    28.34   \n",
      "\n",
      "                       7        8       9   ...       16       17      18  \\\n",
      "Date              5/19/23  5/26/23  6/2/23  ...  7/21/23  7/28/23  8/4/23   \n",
      "AAPL Close Price   175.16   175.43  180.95  ...   191.94   195.83  181.99   \n",
      "MSFT Close Price   318.34   332.89   335.4  ...   343.77   338.37  327.78   \n",
      "AMZN Close Price   116.25   120.11  124.25  ...    130.0   132.21  139.57   \n",
      "NVDA Close Price    31.26    38.95   39.33  ...    44.31    46.75   44.68   \n",
      "\n",
      "                       19       20       21      22      23       24       25  \n",
      "Date              8/11/23  8/18/23  8/25/23  9/1/23  9/8/23  9/15/23  9/22/23  \n",
      "AAPL Close Price   177.79   174.49   178.61  189.46  178.18   175.01   174.79  \n",
      "MSFT Close Price   321.01   316.48   322.98  328.66  334.27   330.22   317.01  \n",
      "AMZN Close Price   138.41   133.22   133.26  138.12  138.23   140.39   129.12  \n",
      "NVDA Close Price    40.85     43.3    46.02   48.51   45.57     43.9    41.61  \n",
      "\n",
      "[5 rows x 26 columns]\n"
     ]
    }
   ],
   "execution_count": 8
  },
  {
   "metadata": {},
   "cell_type": "markdown",
   "source": "We have now cleaned the data and created our matrix to use for computations later on instead of working directly with the pandas dataframe. We only show the first 5 rows here to conserve room and not clutter the screen. To start with the calculations we first must initialize the excess return matrix and store 0's in the first column as this is the reference column and will have no excess returns for the beginning calculations. This will later be deleted. We also set variables, row and cols, as the rows and columns of the price matrix to setup for the calculation of the excess returns matrix.",
   "id": "60c03643e9c8b918"
  },
  {
   "metadata": {
    "ExecuteTime": {
     "end_time": "2025-02-11T20:28:55.170566Z",
     "start_time": "2025-02-11T20:28:55.167105Z"
    }
   },
   "cell_type": "code",
   "source": [
    "# Initializing the excess return matrix as n x p\n",
    "excess_return_matrix = np.zeros((9,26))\n",
    "\n",
    "# Setting first column = 0 as there are no weekly returns for the first row\n",
    "excess_return_matrix[:,0] = 0\n",
    "\n",
    "# Setting amount of rows and columns for, for loop\n",
    "rows, cols = price_matrix.shape"
   ],
   "id": "564b59b8b3110292",
   "outputs": [],
   "execution_count": 11
  },
  {
   "metadata": {},
   "cell_type": "markdown",
   "source": "As everything is now setup for the calculation of the matrix, the calculation will be what we normally think of as returns weekly, the current price / previous price - 1. This will be computed for each week for each stock, except for our reference column. The deletion of the reference column will also happen along with setting a dataframe to show the results.",
   "id": "d366b8827aba2abf"
  },
  {
   "metadata": {
    "ExecuteTime": {
     "end_time": "2025-02-11T20:28:57.975701Z",
     "start_time": "2025-02-11T20:28:57.970207Z"
    }
   },
   "cell_type": "code",
   "source": [
    "# Computing the weekly excess returns and storing it in the excess return matrix\n",
    "for i in range(rows):\n",
    "    for j in range(1, cols):\n",
    "        excess_return_matrix[i,j] = (price_matrix[i,j] / price_matrix[i,j-1]) - 1\n",
    "\n",
    "# Deleting the first column as this has no excess returns (reference column)\n",
    "excess_return_matrix = np.delete(excess_return_matrix, 0, 1)\n",
    "\n",
    "# Converting the excess returns matrix to a pandas dataframe and setting title\n",
    "excess_return_df = pd.DataFrame(excess_return_matrix, index=tickers)"
   ],
   "id": "f8683a0a7ba27a29",
   "outputs": [],
   "execution_count": 12
  },
  {
   "metadata": {
    "ExecuteTime": {
     "end_time": "2025-02-11T20:35:07.099300Z",
     "start_time": "2025-02-11T20:35:07.073841Z"
    }
   },
   "cell_type": "code",
   "source": [
    "# Printing the Excess Returns Dataframe\n",
    "title = \"Weekly Excess Returns for Given Stocks\"\n",
    "excess_return_df.title = title\n",
    "print(f\"\\n{title}\\n\")\n",
    "print(excess_return_df.iloc[:, :5])"
   ],
   "id": "fda6195f0b6b64fc",
   "outputs": [
    {
     "name": "stdout",
     "output_type": "stream",
     "text": [
      "\n",
      "Weekly Excess Returns for Given Stocks\n",
      "\n",
      "              0         1         2         3         4\n",
      "AAPL  -0.001455  0.003340 -0.001150  0.028239  0.022926\n",
      "MSFT   0.011446 -0.018724 -0.001328  0.075238  0.011033\n",
      "AMZN  -0.011908  0.004409  0.043410 -0.014117  0.001991\n",
      "NVDA  -0.026638 -0.010355  0.013453  0.023230  0.033514\n",
      "GOOGL  0.045214  0.004151 -0.031781  0.018309 -0.016490\n",
      "TSLA  -0.107973 -0.000324 -0.107676 -0.004664  0.034995\n",
      "META   0.019628  0.024942 -0.038828  0.128846 -0.031375\n",
      "BRKB   0.012113  0.023135  0.014355  0.013011 -0.014214\n",
      "UNH    0.085105 -0.001989 -0.054651  0.017093  0.004450\n"
     ]
    }
   ],
   "execution_count": 23
  },
  {
   "metadata": {},
   "cell_type": "markdown",
   "source": "We now have the Weekly Excess returns for each stock with only the first 5 columns shown here. Remember, this is after the deletion of the reference column at first. This does not tell us much right now but is used in the",
   "id": "928831666d375d18"
  }
 ],
 "metadata": {
  "kernelspec": {
   "display_name": "Python 3",
   "language": "python",
   "name": "python3"
  },
  "language_info": {
   "codemirror_mode": {
    "name": "ipython",
    "version": 2
   },
   "file_extension": ".py",
   "mimetype": "text/x-python",
   "name": "python",
   "nbconvert_exporter": "python",
   "pygments_lexer": "ipython2",
   "version": "2.7.6"
  }
 },
 "nbformat": 4,
 "nbformat_minor": 5
}
